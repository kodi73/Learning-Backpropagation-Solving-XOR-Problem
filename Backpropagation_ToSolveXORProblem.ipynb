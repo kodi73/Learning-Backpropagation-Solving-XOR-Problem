{
  "nbformat": 4,
  "nbformat_minor": 0,
  "metadata": {
    "colab": {
      "provenance": [],
      "authorship_tag": "ABX9TyOs4eNFA9hJ1LS0xCFNnWhs",
      "include_colab_link": true
    },
    "kernelspec": {
      "name": "python3",
      "display_name": "Python 3"
    },
    "language_info": {
      "name": "python"
    }
  },
  "cells": [
    {
      "cell_type": "markdown",
      "metadata": {
        "id": "view-in-github",
        "colab_type": "text"
      },
      "source": [
        "<a href=\"https://colab.research.google.com/github/kodi73/Learning-Backpropagation-Solving-XOR-Problem/blob/main/Backpropagation_ToSolveXORProblem.ipynb\" target=\"_parent\"><img src=\"https://colab.research.google.com/assets/colab-badge.svg\" alt=\"Open In Colab\"/></a>"
      ]
    },
    {
      "cell_type": "code",
      "execution_count": 3,
      "metadata": {
        "colab": {
          "base_uri": "https://localhost:8080/",
          "height": 620
        },
        "id": "MG6Hp1e6ALCm",
        "outputId": "db5d3e44-ea19-4844-d2b9-68f3db4617f3"
      },
      "outputs": [
        {
          "output_type": "stream",
          "name": "stdout",
          "text": [
            "Requirement already satisfied: numpy==1.26.4 in /usr/local/lib/python3.12/dist-packages (1.26.4)\n",
            "Collecting matplotlib==3.5.2\n",
            "  Using cached matplotlib-3.5.2.tar.gz (35.2 MB)\n",
            "  Preparing metadata (setup.py) ... \u001b[?25l\u001b[?25hdone\n",
            "Requirement already satisfied: cycler>=0.10 in /usr/local/lib/python3.12/dist-packages (from matplotlib==3.5.2) (0.12.1)\n",
            "Requirement already satisfied: fonttools>=4.22.0 in /usr/local/lib/python3.12/dist-packages (from matplotlib==3.5.2) (4.59.2)\n",
            "Requirement already satisfied: kiwisolver>=1.0.1 in /usr/local/lib/python3.12/dist-packages (from matplotlib==3.5.2) (1.4.9)\n",
            "Requirement already satisfied: numpy>=1.17 in /usr/local/lib/python3.12/dist-packages (from matplotlib==3.5.2) (1.26.4)\n",
            "Requirement already satisfied: packaging>=20.0 in /usr/local/lib/python3.12/dist-packages (from matplotlib==3.5.2) (25.0)\n",
            "Requirement already satisfied: pillow>=6.2.0 in /usr/local/lib/python3.12/dist-packages (from matplotlib==3.5.2) (11.3.0)\n",
            "Requirement already satisfied: pyparsing>=2.2.1 in /usr/local/lib/python3.12/dist-packages (from matplotlib==3.5.2) (3.2.3)\n",
            "Requirement already satisfied: python-dateutil>=2.7 in /usr/local/lib/python3.12/dist-packages (from matplotlib==3.5.2) (2.9.0.post0)\n",
            "Requirement already satisfied: six>=1.5 in /usr/local/lib/python3.12/dist-packages (from python-dateutil>=2.7->matplotlib==3.5.2) (1.17.0)\n",
            "Building wheels for collected packages: matplotlib\n",
            "  Building wheel for matplotlib (setup.py) ... \u001b[?25l\u001b[?25hdone\n",
            "  Created wheel for matplotlib: filename=matplotlib-3.5.2-cp312-cp312-linux_x86_64.whl size=11131041 sha256=75cbd5d5137a1ea5919100ec1f22e980a1a05b0ed60d4e15e7c86d63a371ce42\n",
            "  Stored in directory: /root/.cache/pip/wheels/97/5d/e1/f7559183db24dbb009d1693f5bfec8c2ceba4b8ffcc19aba47\n",
            "Successfully built matplotlib\n",
            "Installing collected packages: matplotlib\n",
            "  Attempting uninstall: matplotlib\n",
            "    Found existing installation: matplotlib 3.10.0\n",
            "    Uninstalling matplotlib-3.10.0:\n",
            "      Successfully uninstalled matplotlib-3.10.0\n",
            "\u001b[31mERROR: pip's dependency resolver does not currently take into account all the packages that are installed. This behaviour is the source of the following dependency conflicts.\n",
            "arviz 0.22.0 requires matplotlib>=3.8, but you have matplotlib 3.5.2 which is incompatible.\n",
            "plotnine 0.14.5 requires matplotlib>=3.8.0, but you have matplotlib 3.5.2 which is incompatible.\n",
            "bigframes 2.17.0 requires matplotlib>=3.7.1, but you have matplotlib 3.5.2 which is incompatible.\u001b[0m\u001b[31m\n",
            "\u001b[0mSuccessfully installed matplotlib-3.5.2\n"
          ]
        },
        {
          "output_type": "display_data",
          "data": {
            "application/vnd.colab-display-data+json": {
              "pip_warning": {
                "packages": [
                  "matplotlib",
                  "mpl_toolkits"
                ]
              },
              "id": "e0f53b19067244648ac364107f0bc446"
            }
          },
          "metadata": {}
        }
      ],
      "source": [
        "!pip install numpy==1.26.4\n",
        "!pip install matplotlib==3.5.2"
      ]
    },
    {
      "cell_type": "code",
      "source": [
        "import numpy as np\n",
        "import matplotlib.pyplot as plt"
      ],
      "metadata": {
        "id": "SMbpIgvEAt41"
      },
      "execution_count": 1,
      "outputs": []
    },
    {
      "cell_type": "code",
      "source": [
        "X = np.array([[0, 0], [0, 1], [1, 0], [1, 1]]).T  # 2x4 matrix, each column is a training example\n",
        "d = np.array([0, 1, 1, 0])  # Expected output for XOR"
      ],
      "metadata": {
        "id": "tPaNKNhlAxj0"
      },
      "execution_count": 2,
      "outputs": []
    },
    {
      "cell_type": "code",
      "source": [
        "def initialize_network_parameters():\n",
        "  inputSize = 2\n",
        "  hiddenSize = 2\n",
        "  outputSize = 1\n",
        "  lr = 0.1\n",
        "  epochs = 180000\n",
        "\n",
        "  w1 = np.random.rand(hiddenSize, inputSize) * 2 - 1\n",
        "  b1 = np.random.rand(hiddenSize, 1) * 2 - 1\n",
        "  w2 = np.random.rand(outputSize, hiddenSize) * 2 - 1\n",
        "  b2 = np.random.rand(outputSize, 1) * 2 - 1\n",
        "\n",
        "  return w1, b1, w2, b2, lr, epochs"
      ],
      "metadata": {
        "id": "Ba_In9_WBq1O"
      },
      "execution_count": 11,
      "outputs": []
    },
    {
      "cell_type": "code",
      "source": [
        "w1, b1, w2, b2, lr, epochs = initialize_network_parameters()\n",
        "error_list = []\n",
        "\n",
        "for epoch in range(epochs):\n",
        "  # Forward Propagation\n",
        "    z1 = np.dot(w1, X) + b1\n",
        "    a1 = 1.0 / (1.0 + np.exp(-z1))\n",
        "\n",
        "    z2 = np.dot(w2, a1) + b2\n",
        "    a2 = 1.0 / (1.0 + np.exp(-z2))\n",
        "\n",
        "    # Error Calculation\n",
        "    error = d - a2\n",
        "\n",
        "    # Backpropagation\n",
        "    da2 = error * (a2 * (1 - a2))\n",
        "    dz2 = da2\n",
        "\n",
        "    da1 = np.dot(w2.T, dz2)\n",
        "    dz1 = da1 * (a1 * (1 - a1))\n",
        "\n",
        "    # Update weights and biases\n",
        "    w2 += lr * np.dot(dz2, a1.T)\n",
        "    b2 += lr * np.sum(dz2, axis=1, keepdims=True)\n",
        "\n",
        "    w1 += lr * np.dot(dz1, X.T)\n",
        "    b1 += lr * np.sum(dz1, axis=1, keepdims=True)\n",
        "\n",
        "    if (epoch+1) % (epochs // 10) == 0:\n",
        "      print(f\"Epoch {epoch+1}: Error = {np.mean(np.abs(error))}\")\n",
        "      error_list.append(np.mean(np.abs(error)))"
      ],
      "metadata": {
        "colab": {
          "base_uri": "https://localhost:8080/"
        },
        "id": "L4HsudE8EZmf",
        "outputId": "17023061-ddb7-4b9b-8ef5-11b50ce4e0ae"
      },
      "execution_count": 12,
      "outputs": [
        {
          "output_type": "stream",
          "name": "stdout",
          "text": [
            "Epoch 18000: Error = 0.03428128276116159\n",
            "Epoch 36000: Error = 0.021051475422078397\n",
            "Epoch 54000: Error = 0.016430270110795307\n",
            "Epoch 72000: Error = 0.01390449321228801\n",
            "Epoch 90000: Error = 0.012259968586006774\n",
            "Epoch 108000: Error = 0.011081940611726179\n",
            "Epoch 126000: Error = 0.010185464442725337\n",
            "Epoch 144000: Error = 0.009474101102286787\n",
            "Epoch 162000: Error = 0.008892033678768854\n",
            "Epoch 180000: Error = 0.008404442720345616\n"
          ]
        }
      ]
    },
    {
      "cell_type": "markdown",
      "source": [
        "Testing the network"
      ],
      "metadata": {
        "id": "FG4TC-0hJ7cT"
      }
    },
    {
      "cell_type": "code",
      "source": [
        "z1 = np.dot(w1, X) + b1\n",
        "a1 = 1.0 / (1.0 + np.exp(-z1))\n",
        "\n",
        "z2 = np.dot(w2, a1) + b2\n",
        "a2 = 1.0 / (1.0 + np.exp(-z2))\n",
        "\n",
        "print('Final output after training:', a2)\n",
        "print('Ground truth', d)\n",
        "print('Error after training:', error)\n",
        "print('Average error: %0.05f'%np.average(abs(error)))\n"
      ],
      "metadata": {
        "colab": {
          "base_uri": "https://localhost:8080/"
        },
        "id": "sUsxwYcJJQgO",
        "outputId": "288d9958-56cb-4fc7-b9e6-75c4a3a91610"
      },
      "execution_count": 13,
      "outputs": [
        {
          "output_type": "stream",
          "name": "stdout",
          "text": [
            "Final output after training: [[0.0083994  0.99206583 0.9903166  0.00760071]]\n",
            "Ground truth [0 1 1 0]\n",
            "Error after training: [[-0.00839942  0.00793419  0.00968343 -0.00760073]]\n",
            "Average error: 0.00840\n"
          ]
        }
      ]
    },
    {
      "cell_type": "code",
      "source": [
        "plt.plot(error_list)\n",
        "plt.title('Error')\n",
        "plt.xlabel('Epochs')\n",
        "plt.ylabel('Error')\n",
        "plt.show()"
      ],
      "metadata": {
        "colab": {
          "base_uri": "https://localhost:8080/",
          "height": 472
        },
        "id": "UTVD1RirKOl_",
        "outputId": "3aaf5aa1-3acd-4760-8655-846f9a8df777"
      },
      "execution_count": 14,
      "outputs": [
        {
          "output_type": "display_data",
          "data": {
            "text/plain": [
              "<Figure size 640x480 with 1 Axes>"
            ],
            "image/png": "[encoded data removed]"
          },
          "metadata": {}
        }
      ]
    },
    {
      "cell_type": "code",
      "source": [],
      "metadata": {
        "id": "7rAU3t4gKXw3"
      },
      "execution_count": null,
      "outputs": []
    }
  ]
}